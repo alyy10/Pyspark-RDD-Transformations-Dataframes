{
 "cells": [
  {
   "cell_type": "code",
   "execution_count": null,
   "id": "09d8b075",
   "metadata": {},
   "outputs": [],
   "source": [
    "# 1. Fetch the record having VendorID as '2' AND tpep_pickup_datetime as '2017-10-01 00:15:30' AND tpep_dropoff_datetime as '2017-10-01 00:25:11' AND passenger_count as '1'\n",
    "# 2. Filter all the records having RatecodeID as 4.\n",
    "# 3. Group By all the records based on payment type and find the count for each group. \n",
    "\n"
   ]
  },
  {
   "cell_type": "code",
   "execution_count": 1,
   "id": "a0a67090",
   "metadata": {},
   "outputs": [],
   "source": [
    "from pyspark.sql import SparkSession"
   ]
  },
  {
   "cell_type": "code",
   "execution_count": 4,
   "id": "ec55787e",
   "metadata": {},
   "outputs": [
    {
     "name": "stderr",
     "output_type": "stream",
     "text": [
      "Using Spark's default log4j profile: org/apache/spark/log4j-defaults.properties\n",
      "Setting default log level to \"WARN\".\n",
      "To adjust logging level use sc.setLogLevel(newLevel). For SparkR, use setLogLevel(newLevel).\n",
      "21/11/19 16:43:43 WARN NativeCodeLoader: Unable to load native-hadoop library for your platform... using builtin-java classes where applicable\n"
     ]
    }
   ],
   "source": [
    "spark = SparkSession.builder.appName(\"Pyspark-usecase\").getOrCreate()"
   ]
  },
  {
   "cell_type": "code",
   "execution_count": null,
   "id": "385e474b",
   "metadata": {},
   "outputs": [
    {
     "name": "stderr",
     "output_type": "stream",
     "text": [
      "                                                                                \r"
     ]
    }
   ],
   "source": [
    "df = spark.read.format(\"csv\").option(\"header\",True).option(\"inferSchema\",True).load(\"/Users/ali/Desktop/insulate/trip_yellow_taxi.csv\")"
   ]
  },
  {
   "cell_type": "code",
   "execution_count": 6,
   "id": "948d5d16",
   "metadata": {},
   "outputs": [
    {
     "name": "stdout",
     "output_type": "stream",
     "text": [
      "+--------+--------------------+---------------------+---------------+-------------+----------+------------------+------------+------------+------------+-----------+-----+-------+----------+------------+---------------------+------------+\n",
      "|VendorID|tpep_pickup_datetime|tpep_dropoff_datetime|passenger_count|trip_distance|RatecodeID|store_and_fwd_flag|PULocationID|DOLocationID|payment_type|fare_amount|extra|mta_tax|tip_amount|tolls_amount|improvement_surcharge|total_amount|\n",
      "+--------+--------------------+---------------------+---------------+-------------+----------+------------------+------------+------------+------------+-----------+-----+-------+----------+------------+---------------------+------------+\n",
      "|       1| 2017-07-01 00:06:25|  2017-07-01 00:10:50|              1|          1.2|         1|                 N|         249|          90|           1|        5.5|  0.5|    0.5|      1.35|         0.0|                  0.3|        8.15|\n",
      "|       1| 2017-07-01 00:20:04|  2017-07-01 00:21:38|              2|          0.2|         1|                 N|         249|         158|           2|        3.0|  0.5|    0.5|       0.0|         0.0|                  0.3|         4.3|\n",
      "|       1| 2017-07-01 00:44:10|  2017-07-01 00:59:29|              1|          4.3|         1|                 N|         100|          45|           1|       15.5|  0.5|    0.5|      3.35|         0.0|                  0.3|       20.15|\n",
      "|       1| 2017-07-01 00:07:33|  2017-07-01 00:31:30|              1|          8.3|         1|                 N|         138|         162|           1|       27.0|  0.5|    0.5|       6.8|        5.76|                  0.3|       40.86|\n",
      "|       1| 2017-07-01 00:01:17|  2017-07-01 00:16:18|              1|          1.9|         1|                 N|         107|         158|           1|       10.5|  0.5|    0.5|       0.0|         0.0|                  0.3|        11.8|\n",
      "+--------+--------------------+---------------------+---------------+-------------+----------+------------------+------------+------------+------------+-----------+-----+-------+----------+------------+---------------------+------------+\n",
      "only showing top 5 rows\n",
      "\n"
     ]
    }
   ],
   "source": [
    "df.show(5)"
   ]
  },
  {
   "cell_type": "code",
   "execution_count": 7,
   "id": "8fa19ddd",
   "metadata": {},
   "outputs": [
    {
     "name": "stdout",
     "output_type": "stream",
     "text": [
      "+--------+--------------------+---------------------+---------------+-------------+----------+------------------+------------+------------+------------+-----------+-----+-------+----------+------------+---------------------+------------+\n",
      "|VendorID|tpep_pickup_datetime|tpep_dropoff_datetime|passenger_count|trip_distance|RatecodeID|store_and_fwd_flag|PULocationID|DOLocationID|payment_type|fare_amount|extra|mta_tax|tip_amount|tolls_amount|improvement_surcharge|total_amount|\n",
      "+--------+--------------------+---------------------+---------------+-------------+----------+------------------+------------+------------+------------+-----------+-----+-------+----------+------------+---------------------+------------+\n",
      "|       2| 2017-10-01 00:15:30|  2017-10-01 00:25:11|              1|         2.17|         1|                 N|         141|         142|           1|        9.0|  0.5|    0.5|      2.06|         0.0|                  0.3|       12.36|\n",
      "|       2| 2017-10-01 00:15:30|  2017-10-01 00:25:11|              1|         2.17|         1|                 N|         141|         142|           1|        9.0|  0.5|    0.5|      2.06|         0.0|                  0.3|       12.36|\n",
      "|       2| 2017-10-01 00:15:30|  2017-10-01 00:25:11|              1|         2.17|         1|                 N|         141|         142|           1|        9.0|  0.5|    0.5|      2.06|         0.0|                  0.3|       12.36|\n",
      "|       2| 2017-10-01 00:15:30|  2017-10-01 00:25:11|              1|         2.17|         1|                 N|         141|         142|           1|        9.0|  0.5|    0.5|      2.06|         0.0|                  0.3|       12.36|\n",
      "|       2| 2017-10-01 00:15:30|  2017-10-01 00:25:11|              1|         2.17|         1|                 N|         141|         142|           1|        9.0|  0.5|    0.5|      2.06|         0.0|                  0.3|       12.36|\n",
      "+--------+--------------------+---------------------+---------------+-------------+----------+------------------+------------+------------+------------+-----------+-----+-------+----------+------------+---------------------+------------+\n",
      "only showing top 5 rows\n",
      "\n"
     ]
    }
   ],
   "source": [
    "df.filter(df.VendorID=='2').filter(df.tpep_pickup_datetime=='2017-10-01 00:15:30').filter(df.tpep_dropoff_datetime=='2017-10-01 00:25:11').filter(df.passenger_count=='1').show(5)"
   ]
  },
  {
   "cell_type": "code",
   "execution_count": 9,
   "id": "67d3c9a3",
   "metadata": {},
   "outputs": [],
   "source": [
    "df.createOrReplaceTempView(\"taxi_data\")"
   ]
  },
  {
   "cell_type": "code",
   "execution_count": 10,
   "id": "bf8c7116",
   "metadata": {},
   "outputs": [
    {
     "name": "stdout",
     "output_type": "stream",
     "text": [
      "+--------+--------------------+---------------------+---------------+-------------+----------+------------------+------------+------------+------------+-----------+-----+-------+----------+------------+---------------------+------------+\n",
      "|VendorID|tpep_pickup_datetime|tpep_dropoff_datetime|passenger_count|trip_distance|RatecodeID|store_and_fwd_flag|PULocationID|DOLocationID|payment_type|fare_amount|extra|mta_tax|tip_amount|tolls_amount|improvement_surcharge|total_amount|\n",
      "+--------+--------------------+---------------------+---------------+-------------+----------+------------------+------------+------------+------------+-----------+-----+-------+----------+------------+---------------------+------------+\n",
      "|       2| 2017-10-01 00:15:30|  2017-10-01 00:25:11|              1|         2.17|         1|                 N|         141|         142|           1|        9.0|  0.5|    0.5|      2.06|         0.0|                  0.3|       12.36|\n",
      "|       2| 2017-10-01 00:15:30|  2017-10-01 00:25:11|              1|         2.17|         1|                 N|         141|         142|           1|        9.0|  0.5|    0.5|      2.06|         0.0|                  0.3|       12.36|\n",
      "|       2| 2017-10-01 00:15:30|  2017-10-01 00:25:11|              1|         2.17|         1|                 N|         141|         142|           1|        9.0|  0.5|    0.5|      2.06|         0.0|                  0.3|       12.36|\n",
      "|       2| 2017-10-01 00:15:30|  2017-10-01 00:25:11|              1|         2.17|         1|                 N|         141|         142|           1|        9.0|  0.5|    0.5|      2.06|         0.0|                  0.3|       12.36|\n",
      "|       2| 2017-10-01 00:15:30|  2017-10-01 00:25:11|              1|         2.17|         1|                 N|         141|         142|           1|        9.0|  0.5|    0.5|      2.06|         0.0|                  0.3|       12.36|\n",
      "+--------+--------------------+---------------------+---------------+-------------+----------+------------------+------------+------------+------------+-----------+-----+-------+----------+------------+---------------------+------------+\n",
      "only showing top 5 rows\n",
      "\n"
     ]
    }
   ],
   "source": [
    "spark.sql(\"select * from taxi_data where VendorID=='2' and tpep_pickup_datetime=='2017-10-01 00:15:30' and tpep_dropoff_datetime=='2017-10-01 00:25:11' and passenger_count=='1'\").show(5)"
   ]
  },
  {
   "cell_type": "code",
   "execution_count": 11,
   "id": "86c6322d",
   "metadata": {},
   "outputs": [
    {
     "name": "stdout",
     "output_type": "stream",
     "text": [
      "+--------+--------------------+---------------------+---------------+-------------+----------+------------------+------------+------------+------------+-----------+-----+-------+----------+------------+---------------------+------------+\n",
      "|VendorID|tpep_pickup_datetime|tpep_dropoff_datetime|passenger_count|trip_distance|RatecodeID|store_and_fwd_flag|PULocationID|DOLocationID|payment_type|fare_amount|extra|mta_tax|tip_amount|tolls_amount|improvement_surcharge|total_amount|\n",
      "+--------+--------------------+---------------------+---------------+-------------+----------+------------------+------------+------------+------------+-----------+-----+-------+----------+------------+---------------------+------------+\n",
      "|       1| 2017-12-01 00:42:45|  2017-12-01 01:04:59|              1|         23.3|         4|                 N|         265|          82|           3|      115.5|  0.5|    0.5|       0.0|         0.0|                  0.3|       116.8|\n",
      "|       1| 2017-12-01 02:49:44|  2017-12-01 02:51:13|              1|          0.0|         4|                 N|         265|         265|           3|        3.5|  0.5|    0.5|       0.0|         0.0|                  0.3|         4.8|\n",
      "|       1| 2017-12-01 02:52:20|  2017-12-01 02:54:50|              1|          0.7|         4|                 N|         265|         265|           3|        6.0|  0.5|    0.5|       0.0|         0.0|                  0.3|         7.3|\n",
      "|       2| 2017-12-01 00:37:31|  2017-12-01 01:17:51|              1|        21.12|         4|                 N|         209|         265|           1|       64.5|  0.5|    0.5|     13.16|         0.0|                  0.3|       78.96|\n",
      "|       2| 2017-12-01 00:11:57|  2017-12-01 00:57:45|              1|        16.54|         4|                 N|          48|         265|           1|       54.5|  0.5|    0.5|     16.74|         0.0|                  0.3|       72.54|\n",
      "+--------+--------------------+---------------------+---------------+-------------+----------+------------------+------------+------------+------------+-----------+-----+-------+----------+------------+---------------------+------------+\n",
      "only showing top 5 rows\n",
      "\n"
     ]
    }
   ],
   "source": [
    "df.filter(df.RatecodeID=='4').show(5)"
   ]
  },
  {
   "cell_type": "code",
   "execution_count": 14,
   "id": "be91502d",
   "metadata": {},
   "outputs": [
    {
     "name": "stdout",
     "output_type": "stream",
     "text": [
      "+------------+-----------------+\n",
      "|payment_type|sum(payment_type)|\n",
      "+------------+-----------------+\n",
      "|           1|            14322|\n",
      "|           3|             7452|\n",
      "|           4|             1584|\n",
      "|           2|            14904|\n",
      "+------------+-----------------+\n",
      "\n"
     ]
    }
   ],
   "source": [
    "df.groupBy(\"payment_type\").sum(\"payment_type\").show()"
   ]
  }
 ],
 "metadata": {
  "kernelspec": {
   "display_name": "Python 3 (ipykernel)",
   "language": "python",
   "name": "python3"
  },
  "language_info": {
   "codemirror_mode": {
    "name": "ipython",
    "version": 3
   },
   "file_extension": ".py",
   "mimetype": "text/x-python",
   "name": "python",
   "nbconvert_exporter": "python",
   "pygments_lexer": "ipython3",
   "version": "3.10.0"
  }
 },
 "nbformat": 4,
 "nbformat_minor": 5
}
